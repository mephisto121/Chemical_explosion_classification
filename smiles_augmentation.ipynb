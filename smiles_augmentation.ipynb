{
 "cells": [
  {
   "cell_type": "code",
   "execution_count": 1,
   "metadata": {},
   "outputs": [
    {
     "name": "stderr",
     "output_type": "stream",
     "text": [
      "f:\\anaconda\\lib\\site-packages\\numpy\\_distributor_init.py:30: UserWarning: loaded more than 1 DLL from .libs:\n",
      "f:\\anaconda\\lib\\site-packages\\numpy\\.libs\\libopenblas.EL2C6PLE4ZYW3ECEVIV3OXXGRN2NRFM2.gfortran-win_amd64.dll\n",
      "f:\\anaconda\\lib\\site-packages\\numpy\\.libs\\libopenblas.WCDJNK7YVMPZQ2ME2ZZHJJRJ3JIKNDB7.gfortran-win_amd64.dll\n",
      "  warnings.warn(\"loaded more than 1 DLL from .libs:\"\n"
     ]
    }
   ],
   "source": [
    "import pandas as pd\n",
    "import numpy as np\n",
    "from rdkit import Chem"
   ]
  },
  {
   "cell_type": "code",
   "execution_count": 2,
   "metadata": {},
   "outputs": [
    {
     "data": {
      "text/html": [
       "<div>\n",
       "<style scoped>\n",
       "    .dataframe tbody tr th:only-of-type {\n",
       "        vertical-align: middle;\n",
       "    }\n",
       "\n",
       "    .dataframe tbody tr th {\n",
       "        vertical-align: top;\n",
       "    }\n",
       "\n",
       "    .dataframe thead th {\n",
       "        text-align: right;\n",
       "    }\n",
       "</style>\n",
       "<table border=\"1\" class=\"dataframe\">\n",
       "  <thead>\n",
       "    <tr style=\"text-align: right;\">\n",
       "      <th></th>\n",
       "      <th>num</th>\n",
       "      <th>Molecular Name</th>\n",
       "      <th>Formula</th>\n",
       "      <th>Density (g/cm3)</th>\n",
       "      <th>Delta Hf solid (kj/mol)</th>\n",
       "      <th>Explosive energy (kj/cc)</th>\n",
       "      <th>Shock velocity (km/s)</th>\n",
       "      <th>Particle velocity (km/s)</th>\n",
       "      <th>Speed of sound (km/s)</th>\n",
       "      <th>Pressure (Gpa)</th>\n",
       "      <th>T(K)</th>\n",
       "      <th>TNT Equiv (per cc)</th>\n",
       "      <th>group</th>\n",
       "      <th>SMILES</th>\n",
       "      <th>NOTE</th>\n",
       "    </tr>\n",
       "  </thead>\n",
       "  <tbody>\n",
       "    <tr>\n",
       "      <th>0</th>\n",
       "      <td>1</td>\n",
       "      <td>CUGCOW</td>\n",
       "      <td>C8N7O14H1</td>\n",
       "      <td>2.024</td>\n",
       "      <td>641.16</td>\n",
       "      <td>6.419</td>\n",
       "      <td>9.569</td>\n",
       "      <td>2.519</td>\n",
       "      <td>7.050</td>\n",
       "      <td>48.777</td>\n",
       "      <td>5440</td>\n",
       "      <td>2.233</td>\n",
       "      <td>Cubane</td>\n",
       "      <td>O=N(=O)C12C3C4(N(=O)=O)C1(N(=O)=O)C1(N(=O)=O)C...</td>\n",
       "      <td>NaN</td>\n",
       "    </tr>\n",
       "    <tr>\n",
       "      <th>1</th>\n",
       "      <td>2</td>\n",
       "      <td>PUBMUU02</td>\n",
       "      <td>C6N12O12H6</td>\n",
       "      <td>2.044</td>\n",
       "      <td>430.83</td>\n",
       "      <td>5.623</td>\n",
       "      <td>9.972</td>\n",
       "      <td>2.346</td>\n",
       "      <td>7.626</td>\n",
       "      <td>47.807</td>\n",
       "      <td>3886</td>\n",
       "      <td>1.828</td>\n",
       "      <td>CL20</td>\n",
       "      <td>O=N(=O)N1C2C3N(N(=O)=O)C4C1N(N(=O)=O)C(C(N2N(=...</td>\n",
       "      <td>NaN</td>\n",
       "    </tr>\n",
       "    <tr>\n",
       "      <th>2</th>\n",
       "      <td>3</td>\n",
       "      <td>KURT08MO</td>\n",
       "      <td>C4N8O10H4F4</td>\n",
       "      <td>2.028</td>\n",
       "      <td>-151.80</td>\n",
       "      <td>5.290</td>\n",
       "      <td>8.365</td>\n",
       "      <td>2.286</td>\n",
       "      <td>6.079</td>\n",
       "      <td>38.780</td>\n",
       "      <td>4342</td>\n",
       "      <td>1.842</td>\n",
       "      <td>Linear</td>\n",
       "      <td>[H]C([H])(N(N(=O)=O)C([H])([H])C(N(F)F)(N(=O)=...</td>\n",
       "      <td>NaN</td>\n",
       "    </tr>\n",
       "    <tr>\n",
       "      <th>3</th>\n",
       "      <td>4</td>\n",
       "      <td>ELUDEV</td>\n",
       "      <td>C4N10O6H2</td>\n",
       "      <td>1.996</td>\n",
       "      <td>657.13</td>\n",
       "      <td>5.228</td>\n",
       "      <td>9.729</td>\n",
       "      <td>2.289</td>\n",
       "      <td>7.441</td>\n",
       "      <td>44.490</td>\n",
       "      <td>3950</td>\n",
       "      <td>1.698</td>\n",
       "      <td>Pyrazole</td>\n",
       "      <td>O=N(=O)NC1=NON=C1N=NC1=NON=C1NN(=O)=O</td>\n",
       "      <td>NaN</td>\n",
       "    </tr>\n",
       "    <tr>\n",
       "      <th>4</th>\n",
       "      <td>5</td>\n",
       "      <td>UGUGUY</td>\n",
       "      <td>C8N6O12H2</td>\n",
       "      <td>1.931</td>\n",
       "      <td>593.87</td>\n",
       "      <td>5.188</td>\n",
       "      <td>9.061</td>\n",
       "      <td>2.318</td>\n",
       "      <td>6.743</td>\n",
       "      <td>40.555</td>\n",
       "      <td>5184</td>\n",
       "      <td>1.920</td>\n",
       "      <td>Cubane</td>\n",
       "      <td>O=N(=O)C12C3C4(C1C1(N(=O)=O)C2(N(=O)=O)C3(N(=O...</td>\n",
       "      <td>NaN</td>\n",
       "    </tr>\n",
       "  </tbody>\n",
       "</table>\n",
       "</div>"
      ],
      "text/plain": [
       "   num Molecular Name      Formula  Density (g/cm3)  Delta Hf solid (kj/mol)  \\\n",
       "0    1         CUGCOW    C8N7O14H1            2.024                   641.16   \n",
       "1    2       PUBMUU02   C6N12O12H6            2.044                   430.83   \n",
       "2    3       KURT08MO  C4N8O10H4F4            2.028                  -151.80   \n",
       "3    4         ELUDEV    C4N10O6H2            1.996                   657.13   \n",
       "4    5         UGUGUY    C8N6O12H2            1.931                   593.87   \n",
       "\n",
       "   Explosive energy (kj/cc)  Shock velocity (km/s)  Particle velocity (km/s)  \\\n",
       "0                     6.419                  9.569                     2.519   \n",
       "1                     5.623                  9.972                     2.346   \n",
       "2                     5.290                  8.365                     2.286   \n",
       "3                     5.228                  9.729                     2.289   \n",
       "4                     5.188                  9.061                     2.318   \n",
       "\n",
       "   Speed of sound (km/s)  Pressure (Gpa)  T(K)  TNT Equiv (per cc)      group  \\\n",
       "0                  7.050          48.777  5440               2.233    Cubane    \n",
       "1                  7.626          47.807  3886               1.828      CL20    \n",
       "2                  6.079          38.780  4342               1.842    Linear    \n",
       "3                  7.441          44.490  3950               1.698  Pyrazole    \n",
       "4                  6.743          40.555  5184               1.920    Cubane    \n",
       "\n",
       "                                              SMILES NOTE  \n",
       "0  O=N(=O)C12C3C4(N(=O)=O)C1(N(=O)=O)C1(N(=O)=O)C...  NaN  \n",
       "1  O=N(=O)N1C2C3N(N(=O)=O)C4C1N(N(=O)=O)C(C(N2N(=...  NaN  \n",
       "2  [H]C([H])(N(N(=O)=O)C([H])([H])C(N(F)F)(N(=O)=...  NaN  \n",
       "3              O=N(=O)NC1=NON=C1N=NC1=NON=C1NN(=O)=O  NaN  \n",
       "4  O=N(=O)C12C3C4(C1C1(N(=O)=O)C2(N(=O)=O)C3(N(=O...  NaN  "
      ]
     },
     "execution_count": 2,
     "metadata": {},
     "output_type": "execute_result"
    }
   ],
   "source": [
    "df = pd.read_excel('Huang_Massa_data_with_all_SMILES.xlsx')\n",
    "df.head()"
   ]
  },
  {
   "cell_type": "code",
   "execution_count": 3,
   "metadata": {},
   "outputs": [],
   "source": [
    "def rand_generator(smi,y):\n",
    "    smiles_list = []\n",
    "    y_list = []\n",
    "    for _ in range(70):\n",
    "        mol = Chem.MolFromSmiles(smi)\n",
    "        if not mol:\n",
    "            return None\n",
    "        smiles_list.append(Chem.MolToSmiles(\n",
    "            mol, canonical = False, doRandom = True, isomericSmiles = False, kekuleSmiles = False \n",
    "        ))\n",
    "\n",
    "    smiles_list.append(smi)\n",
    "    smiles_list = list(set(filter(None, smiles_list)))\n",
    "    for _ in range(len(smiles_list)):\n",
    "        y_list.append(y)\n",
    "    y_list = list(filter(None, y_list))    \n",
    "    return smiles_list, y_list"
   ]
  },
  {
   "cell_type": "code",
   "execution_count": 4,
   "metadata": {},
   "outputs": [
    {
     "name": "stderr",
     "output_type": "stream",
     "text": [
      "<ipython-input-4-a9f2a51f61ab>:6: VisibleDeprecationWarning: Creating an ndarray from ragged nested sequences (which is a list-or-tuple of lists-or-tuples-or ndarrays with different lengths or shapes) is deprecated. If you meant to do this, you must specify 'dtype=object' when creating the ndarray.\n",
      "  outcome_final_array = np.array(outcome_final)\n"
     ]
    }
   ],
   "source": [
    "smiles = list(df.SMILES)\n",
    "y = list(df['Explosive energy (kj/cc)'])\n",
    "outcome = map(rand_generator, smiles, y)\n",
    "outcome =list(outcome)\n",
    "outcome_final = list(filter(None, outcome))\n",
    "outcome_final_array = np.array(outcome_final)\n",
    "final_dict = pd.DataFrame(columns=['SMILES', 'Y'])"
   ]
  },
  {
   "cell_type": "code",
   "execution_count": 5,
   "metadata": {},
   "outputs": [],
   "source": [
    "for i in range(len(outcome_final)):\n",
    "    for m in range(len(outcome_final[i][0])):\n",
    "        d = {'SMILES': outcome_final_array[i][0][m], 'Y': outcome_final_array[i][1][m]}\n",
    "        final_dict = final_dict.append(d, ignore_index=True)"
   ]
  },
  {
   "cell_type": "code",
   "execution_count": 6,
   "metadata": {},
   "outputs": [],
   "source": [
    "final_dict.to_csv('augmented_smiles.csv')"
   ]
  }
 ],
 "metadata": {
  "interpreter": {
   "hash": "ec3b6344b8b3f6c3db1463248c46b8920f4fc68f6187e2c1e71f56a52299e245"
  },
  "kernelspec": {
   "display_name": "Python 3.8.8 ('base')",
   "language": "python",
   "name": "python3"
  },
  "language_info": {
   "codemirror_mode": {
    "name": "ipython",
    "version": 3
   },
   "file_extension": ".py",
   "mimetype": "text/x-python",
   "name": "python",
   "nbconvert_exporter": "python",
   "pygments_lexer": "ipython3",
   "version": "3.8.8"
  },
  "orig_nbformat": 4
 },
 "nbformat": 4,
 "nbformat_minor": 2
}
